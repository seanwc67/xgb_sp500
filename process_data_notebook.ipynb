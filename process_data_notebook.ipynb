{
 "cells": [
  {
   "cell_type": "markdown",
   "id": "199b5b7d-3c6f-4817-a5a9-894aab1e9f25",
   "metadata": {},
   "source": [
    "Adheres to the logic of `process_data.py`, processing `yearly_dataset.csv`.\n",
    "Run in a setting with `output/yearly_dataset.csv` (output of `retrieve_data.py`)."
   ]
  },
  {
   "cell_type": "code",
   "execution_count": 1,
   "id": "6b3e3d7e-27a1-476e-aba8-c6bd390191ac",
   "metadata": {},
   "outputs": [
    {
     "name": "stdout",
     "output_type": "stream",
     "text": [
      "DataFrame shape: (9588, 384) (rows, columns)\n",
      "After loading: missing %: 9.09%\n",
      "\n",
      "Per-column missing % (non-zero only):\n",
      "price_begin                                                   3.39\n",
      "price_end                                                     3.39\n",
      "price_change                                                  3.39\n",
      "income_statement_reportedCurrency                           100.00\n",
      "income_statement_cik                                          1.24\n",
      "                                                             ...  \n",
      "financial_growth_tenYBottomLineNetIncomeGrowthPerShare       38.84\n",
      "financial_growth_fiveYBottomLineNetIncomeGrowthPerShare      38.84\n",
      "financial_growth_threeYBottomLineNetIncomeGrowthPerShare     38.84\n",
      "financial_growth_fetched_at_utc                             100.00\n",
      "financial_growth_calendarYear                                 1.22\n",
      "Length: 382, dtype: float64\n",
      "\n",
      "==================================================\n",
      "\n"
     ]
    }
   ],
   "source": [
    "import pandas as pd\n",
    "import numpy as np\n",
    "import warnings\n",
    "\n",
    "# Suppress warnings for uncluttered output.\n",
    "warnings.filterwarnings(\"ignore\", category=RuntimeWarning, module=\"numpy\")\n",
    "\n",
    "INPUT_CSV = \"output/yearly_dataset.csv\"\n",
    "SPY_CSV = \"output/spy_data.csv\"\n",
    "OUTPUT_CSV = \"output/processed_dataset.csv\"\n",
    "OUTPUT_2024_CSV = \"output/processed_2024_dataset.csv\"\n",
    "EXCLUDED_COLS = [\"year\", \"ticker\"]\n",
    "PRICE_COL = [\"price_change\"]\n",
    "\n",
    "# Print missing value %.\n",
    "def log_missing_pct(df, step_name):\n",
    "    if df.empty:\n",
    "        print(f\"{step_name}: DataFrame is empty, missing %: 100%\")\n",
    "        return\n",
    "    total_cells = df.size\n",
    "    missing_cells = df.isna().sum().sum()\n",
    "    missing_pct = round(missing_cells / total_cells * 100, 2) if total_cells > 0 else 100.0\n",
    "    print(f\"{step_name}: missing %: {missing_pct}%\")\n",
    "    \n",
    "    missing_summary = df.isna().sum() / len(df) * 100\n",
    "    missing_summary = missing_summary[missing_summary > 0].round(2)\n",
    "    if not missing_summary.empty:\n",
    "        print(\"\\nPer-column missing % (non-zero only):\")\n",
    "        print(missing_summary)\n",
    "    else:\n",
    "        print(\"\\nNo missing values per column.\")\n",
    "    print(\"\\n\" + \"=\"*50 + \"\\n\")\n",
    "\n",
    "df = pd.read_csv(INPUT_CSV).copy()\n",
    "print(f\"DataFrame shape: {df.shape} (rows, columns)\")\n",
    "log_missing_pct(df, \"After loading\")"
   ]
  },
  {
   "cell_type": "code",
   "execution_count": 2,
   "id": "e8e0e95c-8f37-4f19-9073-66ee904c619f",
   "metadata": {},
   "outputs": [
    {
     "name": "stdout",
     "output_type": "stream",
     "text": [
      "After dropping price_begin/end: missing %: 9.12%\n",
      "\n",
      "Per-column missing % (non-zero only):\n",
      "price_change                                                  3.39\n",
      "income_statement_reportedCurrency                           100.00\n",
      "income_statement_cik                                          1.24\n",
      "income_statement_filingDate                                 100.00\n",
      "income_statement_acceptedDate                               100.00\n",
      "                                                             ...  \n",
      "financial_growth_tenYBottomLineNetIncomeGrowthPerShare       38.84\n",
      "financial_growth_fiveYBottomLineNetIncomeGrowthPerShare      38.84\n",
      "financial_growth_threeYBottomLineNetIncomeGrowthPerShare     38.84\n",
      "financial_growth_fetched_at_utc                             100.00\n",
      "financial_growth_calendarYear                                 1.22\n",
      "Length: 380, dtype: float64\n",
      "\n",
      "==================================================\n",
      "\n"
     ]
    }
   ],
   "source": [
    "# Delete price_begin and price_end columns\n",
    "df = df.drop(columns=[\"price_begin\", \"price_end\"], errors=\"ignore\")\n",
    "log_missing_pct(df, \"After dropping price_begin/end\")"
   ]
  },
  {
   "cell_type": "code",
   "execution_count": 3,
   "id": "71862670-5237-4831-bec9-616de50df596",
   "metadata": {},
   "outputs": [
    {
     "name": "stdout",
     "output_type": "stream",
     "text": [
      "After removing SPY: missing %: 8.93%\n",
      "\n",
      "Per-column missing % (non-zero only):\n",
      "price_change                                                  3.40\n",
      "income_statement_reportedCurrency                           100.00\n",
      "income_statement_cik                                          1.03\n",
      "income_statement_filingDate                                 100.00\n",
      "income_statement_acceptedDate                               100.00\n",
      "                                                             ...  \n",
      "financial_growth_tenYBottomLineNetIncomeGrowthPerShare       38.71\n",
      "financial_growth_fiveYBottomLineNetIncomeGrowthPerShare      38.71\n",
      "financial_growth_threeYBottomLineNetIncomeGrowthPerShare     38.71\n",
      "financial_growth_fetched_at_utc                             100.00\n",
      "financial_growth_calendarYear                                 1.01\n",
      "Length: 380, dtype: float64\n",
      "\n",
      "==================================================\n",
      "\n"
     ]
    }
   ],
   "source": [
    "# Save index data and remove from main dataset\n",
    "spy_df = df[df[\"ticker\"] == \"SPY\"][[\"year\", \"price_change\"]]\n",
    "spy_df[[\"year\", \"price_change\"]].to_csv(SPY_CSV, index=False)\n",
    "df = df[df[\"ticker\"] != \"SPY\"]\n",
    "log_missing_pct(df, \"After removing SPY\")"
   ]
  },
  {
   "cell_type": "code",
   "execution_count": 4,
   "id": "2d547f1a-c401-4187-be3e-e10e5b949f81",
   "metadata": {},
   "outputs": [
    {
     "name": "stdout",
     "output_type": "stream",
     "text": [
      "After removing ticker+year combinations if missing price_change: missing %: 8.77%\n",
      "\n",
      "Per-column missing % (non-zero only):\n",
      "income_statement_reportedCurrency                           100.00\n",
      "income_statement_cik                                          1.03\n",
      "income_statement_filingDate                                 100.00\n",
      "income_statement_acceptedDate                               100.00\n",
      "income_statement_fiscalYear                                   1.03\n",
      "                                                             ...  \n",
      "financial_growth_tenYBottomLineNetIncomeGrowthPerShare       39.06\n",
      "financial_growth_fiveYBottomLineNetIncomeGrowthPerShare      39.06\n",
      "financial_growth_threeYBottomLineNetIncomeGrowthPerShare     39.06\n",
      "financial_growth_fetched_at_utc                             100.00\n",
      "financial_growth_calendarYear                                 1.02\n",
      "Length: 379, dtype: float64\n",
      "\n",
      "==================================================\n",
      "\n"
     ]
    }
   ],
   "source": [
    "# Delete ticker+year combinations if missing annual return\n",
    "df = df[df[\"price_change\"].notna()]\n",
    "log_missing_pct(df, \"After removing ticker+year combinations if missing price_change\")"
   ]
  },
  {
   "cell_type": "code",
   "execution_count": 5,
   "id": "64964460-356c-47d5-a480-08acc97fd5c0",
   "metadata": {},
   "outputs": [
    {
     "name": "stdout",
     "output_type": "stream",
     "text": [
      "After removing feature+year combos: missing %: 1.55%\n",
      "\n",
      "Per-column missing % (non-zero only):\n",
      "income_statement_cik                                         1.03\n",
      "income_statement_fiscalYear                                  1.03\n",
      "income_statement_revenue                                     1.03\n",
      "income_statement_costOfRevenue                               1.03\n",
      "income_statement_grossProfit                                 1.03\n",
      "                                                            ...  \n",
      "financial_growth_growthCapitalExpenditure                   39.06\n",
      "financial_growth_tenYBottomLineNetIncomeGrowthPerShare      39.06\n",
      "financial_growth_fiveYBottomLineNetIncomeGrowthPerShare     39.06\n",
      "financial_growth_threeYBottomLineNetIncomeGrowthPerShare    39.06\n",
      "financial_growth_calendarYear                                1.02\n",
      "Length: 351, dtype: float64\n",
      "\n",
      "==================================================\n",
      "\n"
     ]
    }
   ],
   "source": [
    "# Delete feature columns for specific years if >50% missing values\n",
    "feature_cols = [c for c in df.columns if c not in EXCLUDED_COLS + PRICE_COL]\n",
    "for year in df[\"year\"].unique():\n",
    "    year_mask = df[\"year\"] == year\n",
    "    if not df[year_mask].empty:\n",
    "        for col in feature_cols[:]:\n",
    "            if col in df.columns:\n",
    "                missing_rate = df.loc[year_mask, col].isna().mean()\n",
    "                if missing_rate > 0.5 or df.loc[year_mask, col].isna().all():\n",
    "                    # Exclude the feature for this year by setting to NaN (proxy for deletion)\n",
    "                    df.loc[year_mask, col] = np.nan\n",
    "                    # If the entire column is now NaN across all years, drop it\n",
    "                    if df[col].isna().all():\n",
    "                        df = df.drop(columns=[col])\n",
    "                        feature_cols.remove(col)\n",
    "log_missing_pct(df, \"After removing feature+year combos\")"
   ]
  },
  {
   "cell_type": "code",
   "execution_count": 6,
   "id": "e17470f0-366a-4ac2-a50a-36c7a73e09c9",
   "metadata": {},
   "outputs": [
    {
     "name": "stdout",
     "output_type": "stream",
     "text": [
      "After removing ticker+year combos: missing %: 0.57%\n",
      "\n",
      "Per-column missing % (non-zero only):\n",
      "income_statement_cik                                         0.01\n",
      "income_statement_fiscalYear                                  0.01\n",
      "income_statement_revenue                                     0.01\n",
      "income_statement_costOfRevenue                               0.01\n",
      "income_statement_grossProfit                                 0.01\n",
      "                                                            ...  \n",
      "financial_growth_growthCapitalExpenditure                   38.44\n",
      "financial_growth_tenYBottomLineNetIncomeGrowthPerShare      38.44\n",
      "financial_growth_fiveYBottomLineNetIncomeGrowthPerShare     38.44\n",
      "financial_growth_threeYBottomLineNetIncomeGrowthPerShare    38.44\n",
      "financial_growth_calendarYear                                0.01\n",
      "Length: 351, dtype: float64\n",
      "\n",
      "==================================================\n",
      "\n",
      "After deletion missing %: 0.57% < 5%; continuing.\n"
     ]
    }
   ],
   "source": [
    "# Delete ticker+year combinations if >50% are missing\n",
    "for (ticker, year), group in df.groupby([\"ticker\", \"year\"]):\n",
    "    if not group.empty:\n",
    "        if group[feature_cols].isna().mean().mean() > 0.5:\n",
    "            df = df[~((df[\"ticker\"] == ticker) & (df[\"year\"] == year))]\n",
    "log_missing_pct(df, \"After removing ticker+year combos\")\n",
    "\n",
    "# Check if >5% missing remains (pause logic adapted for notebook)\n",
    "total_cells = df.size\n",
    "missing_cells = df.isna().sum().sum()\n",
    "missing_pct = round(missing_cells / total_cells * 100, 2) if total_cells > 0 else 100.0\n",
    "if missing_pct >= 5:\n",
    "    print(f\"After deletion missing %: {missing_pct}% >= 5%; review data before continuing.\")\n",
    "else:\n",
    "    print(f\"After deletion missing %: {missing_pct}% < 5%; continuing.\")"
   ]
  },
  {
   "cell_type": "code",
   "execution_count": 7,
   "id": "6290acf1-8a0e-407c-bc17-d3566092ebb6",
   "metadata": {},
   "outputs": [
    {
     "name": "stdout",
     "output_type": "stream",
     "text": [
      "After per-ticker median fill: missing %: 0.54%\n",
      "\n",
      "Per-column missing % (non-zero only):\n",
      "financial_growth_ebitdaGrowth                               38.43\n",
      "financial_growth_growthCapitalExpenditure                   38.43\n",
      "financial_growth_tenYBottomLineNetIncomeGrowthPerShare      38.43\n",
      "financial_growth_fiveYBottomLineNetIncomeGrowthPerShare     38.43\n",
      "financial_growth_threeYBottomLineNetIncomeGrowthPerShare    38.43\n",
      "dtype: float64\n",
      "\n",
      "==================================================\n",
      "\n"
     ]
    }
   ],
   "source": [
    "# Fill missing values with per-ticker median across all years for that feature\n",
    "for ticker in df[\"ticker\"].unique():\n",
    "    ticker_mask = df[\"ticker\"] == ticker\n",
    "    for col in feature_cols:\n",
    "        if col in df.columns:\n",
    "            median_val = df.loc[ticker_mask, col].median()\n",
    "            df.loc[ticker_mask & df[col].isna(), col] = median_val\n",
    "log_missing_pct(df, \"After per-ticker median fill\")"
   ]
  },
  {
   "cell_type": "code",
   "execution_count": 8,
   "id": "b0289ef7-dbf2-43bf-a513-531c79141a6c",
   "metadata": {},
   "outputs": [
    {
     "name": "stdout",
     "output_type": "stream",
     "text": [
      "After global median fill: missing %: 0.0%\n",
      "\n",
      "No missing values per column.\n",
      "\n",
      "==================================================\n",
      "\n"
     ]
    }
   ],
   "source": [
    "# Fill remaining missing values with global median for that feature in that year\n",
    "for year in df[\"year\"].unique():\n",
    "    year_mask = df[\"year\"] == year\n",
    "    if not df[year_mask].empty:\n",
    "        for col in feature_cols:\n",
    "            if col in df.columns:\n",
    "                global_median = df.loc[year_mask, col].median()\n",
    "                df.loc[year_mask & df[col].isna(), col] = global_median\n",
    "log_missing_pct(df, \"After global median fill\")"
   ]
  },
  {
   "cell_type": "code",
   "execution_count": 9,
   "id": "27b3b7cf-24ea-41e3-8de0-348e5ec1920a",
   "metadata": {},
   "outputs": [
    {
     "name": "stdout",
     "output_type": "stream",
     "text": [
      "Deleted 94 ticker-year combos due to extremes.\n",
      "After removing extreme z-scores: missing %: 0.0%\n",
      "\n",
      "No missing values per column.\n",
      "\n",
      "==================================================\n",
      "\n"
     ]
    }
   ],
   "source": [
    "# Delete ticker+year combos with >10% extreme z-scores\n",
    "all_cols = [c for c in df.columns if c not in EXCLUDED_COLS]\n",
    "deleted_ticker_years = []\n",
    "for (ticker, year), group in df.groupby([\"ticker\", \"year\"]):\n",
    "    if not group.empty:\n",
    "        extreme_count = 0\n",
    "        year_mask = df[\"year\"] == year\n",
    "        for col in all_cols:\n",
    "            if col in group.columns and group[col].dtype in [\"float64\", \"int64\"]:\n",
    "                # Use year-specific mean and std\n",
    "                mean_val = df.loc[year_mask, col].mean()\n",
    "                std_val = df.loc[year_mask, col].std()\n",
    "                if std_val > 0:\n",
    "                    z_score = (group[col].iloc[0] - mean_val) / std_val\n",
    "                    if abs(z_score) > 5:\n",
    "                        extreme_count += 1\n",
    "        extreme_pct = (extreme_count / len(all_cols)) * 100 if all_cols else 0\n",
    "        if extreme_pct > 10:\n",
    "            deleted_ticker_years.append((ticker, year))\n",
    "            df = df[~((df[\"ticker\"] == ticker) & (df[\"year\"] == year))]\n",
    "print(f\"Deleted {len(deleted_ticker_years)} ticker-year combos due to extremes.\")\n",
    "log_missing_pct(df, \"After removing extreme z-scores\")"
   ]
  },
  {
   "cell_type": "code",
   "execution_count": 10,
   "id": "a4d63086-5003-40b0-9c46-18ea81420b12",
   "metadata": {},
   "outputs": [
    {
     "name": "stdout",
     "output_type": "stream",
     "text": [
      "After capping extreme values: missing %: 0.0%\n",
      "\n",
      "No missing values per column.\n",
      "\n",
      "==================================================\n",
      "\n"
     ]
    }
   ],
   "source": [
    "# Cap remaining extreme values to within z-scores of ±5\n",
    "for col in all_cols:\n",
    "    if col in df.columns and df[col].dtype in [\"float64\", \"int64\"]:\n",
    "        mean_val = df[col].mean()\n",
    "        std_val = df[col].std()\n",
    "        if std_val > 0:\n",
    "            z_scores = (df[col] - mean_val) / std_val\n",
    "            valid_values = df[col][z_scores.abs() <= 5]\n",
    "            max_val = valid_values.max() if not valid_values.empty else df[col].max()\n",
    "            min_val = valid_values.min() if not valid_values.empty else df[col].min()\n",
    "            df.loc[(z_scores > 5) & (df[col].notna()), col] = max_val\n",
    "            df.loc[(z_scores < -5) & (df[col].notna()), col] = min_val\n",
    "log_missing_pct(df, \"After capping extreme values\")"
   ]
  },
  {
   "cell_type": "code",
   "execution_count": 11,
   "id": "2536ee26-9506-4106-b5a4-3d536b2aa180",
   "metadata": {},
   "outputs": [
    {
     "name": "stdout",
     "output_type": "stream",
     "text": [
      "Adding label column beat_index\n",
      "After adding beat_index: missing %: 0.02%\n",
      "\n",
      "Per-column missing % (non-zero only):\n",
      "beat_index    5.48\n",
      "dtype: float64\n",
      "\n",
      "==================================================\n",
      "\n",
      "beat_index has no missing values prior to 2024\n",
      "Deleted 0 unlabeled ticker-year combos.\n",
      "After dropping unlabeled combos: missing %: 0.02%\n",
      "\n",
      "Per-column missing % (non-zero only):\n",
      "beat_index    5.48\n",
      "dtype: float64\n",
      "\n",
      "==================================================\n",
      "\n",
      "beat_index has no missing values prior to 2024\n"
     ]
    }
   ],
   "source": [
    "    print(\"Adding label column beat_index\")\n",
    "    df[\"beat_index\"] = np.nan\n",
    "    spy_prices = pd.read_csv(SPY_CSV).set_index(\"year\")[\"price_change\"]\n",
    "    for year in df[\"year\"].unique():\n",
    "        if year < 2024:\n",
    "            next_year = year + 1\n",
    "            if next_year in spy_prices.index:\n",
    "                spy_change = spy_prices[next_year]\n",
    "                year_mask = df[\"year\"] == year\n",
    "                df.loc[year_mask, \"beat_index\"] = (df.loc[year_mask, \"price_change\"] > spy_change).astype(int)\n",
    "\n",
    "    log_missing_pct(df, \"After adding beat_index\")\n",
    "    pre2024 = df[df[\"year\"] < 2024]\n",
    "    if not pre2024.empty:\n",
    "        if pre2024[\"beat_index\"].isna().sum() == 0:\n",
    "            print(\"beat_index has no missing values prior to 2024\")\n",
    "        else:\n",
    "            pct = 100 * pre2024[\"beat_index\"].isna().mean()\n",
    "            print(f\"beat_index missing {pct:.2f}% prior to 2024\")\n",
    "\n",
    "    deleted_ticker_years = []\n",
    "    for (ticker, year), group in df.groupby([\"ticker\", \"year\"]):\n",
    "        # Drop entire combo only if ALL rows are unlabeled for that past year\n",
    "        if year < 2024 and group[\"beat_index\"].isna().all():\n",
    "            deleted_ticker_years.append((ticker, year))\n",
    "            df = df[~((df[\"ticker\"] == ticker) & (df[\"year\"] == year))]\n",
    "\n",
    "    print(f\"Deleted {len(deleted_ticker_years)} unlabeled ticker-year combos.\")\n",
    "    log_missing_pct(df, \"After dropping unlabeled combos\")\n",
    "    pre2024 = df[df[\"year\"] < 2024]\n",
    "    if not pre2024.empty:\n",
    "        if pre2024[\"beat_index\"].isna().sum() == 0:\n",
    "            print(\"beat_index has no missing values prior to 2024\")\n",
    "        else:\n",
    "            pct = 100 * pre2024[\"beat_index\"].isna().mean()\n",
    "            print(f\"beat_index missing {pct:.2f}% prior to 2024\")"
   ]
  },
  {
   "cell_type": "code",
   "execution_count": 12,
   "id": "085f1177-a030-43c1-ab69-f5bddc754637",
   "metadata": {},
   "outputs": [
    {
     "name": "stdout",
     "output_type": "stream",
     "text": [
      "After removing price_change: missing %: 0.02%\n",
      "\n",
      "Per-column missing % (non-zero only):\n",
      "beat_index    5.48\n",
      "dtype: float64\n",
      "\n",
      "==================================================\n",
      "\n"
     ]
    }
   ],
   "source": [
    "# Delete price_change column\n",
    "df = df.drop(columns=PRICE_COL, errors=\"ignore\")\n",
    "log_missing_pct(df, \"After removing price_change\")"
   ]
  },
  {
   "cell_type": "code",
   "execution_count": 13,
   "id": "1b1eaeb7-1c5a-4ba4-a70a-cd9ec29fe0a5",
   "metadata": {},
   "outputs": [
    {
     "name": "stdout",
     "output_type": "stream",
     "text": [
      "2005-2023 dataset: missing %: 0.0%\n",
      "\n",
      "No missing values per column.\n",
      "\n",
      "==================================================\n",
      "\n",
      "2024 dataset: missing %: 0.28%\n",
      "\n",
      "Per-column missing % (non-zero only):\n",
      "beat_index    100.0\n",
      "dtype: float64\n",
      "\n",
      "==================================================\n",
      "\n",
      "No missing values found.\n",
      "Saved processed dataset to output/processed_dataset.csv (shape: (8559, 354))\n",
      "Saved 2024 dataset to output/processed_2024_dataset.csv (shape: (496, 354))\n"
     ]
    }
   ],
   "source": [
    "# Split dataset into 2005-2023 (main) and 2024 (final prediction)\n",
    "df_main = df[df[\"year\"].between(2005, 2023)]\n",
    "df_2024 = df[df[\"year\"] == 2024]\n",
    "log_missing_pct(df_main, \"2005-2023 dataset\")\n",
    "log_missing_pct(df_2024, \"2024 dataset\")\n",
    "\n",
    "# Check for any remaining missing values\n",
    "missing_found = False\n",
    "for df_subset, name in [(df_main, \"2005-2023\"), (df_2024, \"2024\")]:\n",
    "    for col in df_subset.columns:\n",
    "        if col == \"beat_index\" and name == \"2024\":\n",
    "            continue  # Allow NaN in beat_index for 2024\n",
    "        missing_rows = df_subset[df_subset[col].isna()][[\"ticker\", \"year\"]]\n",
    "        for _, row in missing_rows.iterrows():\n",
    "            print(f\"Missing value in {col} for {row['ticker']} in {row['year']} ({name})\")\n",
    "            missing_found = True\n",
    "if not missing_found:\n",
    "    print(\"No missing values found.\")\n",
    "\n",
    "# Save processed datasets\n",
    "df_main.to_csv(OUTPUT_CSV, index=False)\n",
    "df_2024.to_csv(OUTPUT_2024_CSV, index=False)\n",
    "print(f\"Saved processed dataset to {OUTPUT_CSV} (shape: {df_main.shape})\")\n",
    "print(f\"Saved 2024 dataset to {OUTPUT_2024_CSV} (shape: {df_2024.shape})\")"
   ]
  },
  {
   "cell_type": "markdown",
   "id": "c04ae070-8f0e-42b8-a3fa-9d19e7fa55a8",
   "metadata": {},
   "source": [
    "- Removes outliers, splits dataset, fills missings, and adds labels.\n",
    "- Outputs: `processed_dataset.csv` and `processed_2024_dataset.csv`."
   ]
  },
  {
   "cell_type": "code",
   "execution_count": null,
   "id": "9b68285c-a557-44e0-8659-ceae9f407eae",
   "metadata": {},
   "outputs": [],
   "source": []
  }
 ],
 "metadata": {
  "kernelspec": {
   "display_name": "Python 3 (ipykernel)",
   "language": "python",
   "name": "python3"
  },
  "language_info": {
   "codemirror_mode": {
    "name": "ipython",
    "version": 3
   },
   "file_extension": ".py",
   "mimetype": "text/x-python",
   "name": "python",
   "nbconvert_exporter": "python",
   "pygments_lexer": "ipython3",
   "version": "3.12.7"
  }
 },
 "nbformat": 4,
 "nbformat_minor": 5
}
